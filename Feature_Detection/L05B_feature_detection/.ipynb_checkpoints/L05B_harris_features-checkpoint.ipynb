{
 "cells": [
  {
   "cell_type": "markdown",
   "metadata": {},
   "source": [
    "# L05B: Harris Corners"
   ]
  },
  {
   "cell_type": "markdown",
   "metadata": {},
   "source": [
    "Now that you've learned about Harris Corners, you're going to implement them using the `light_cubes_sm.png` image I have provided.\n",
    "\n",
    "1. Compute the gradient at each point in the image\n",
    "2. Compute the H matrix (or at least the elements of it) from the elements of the gradient (and a \"smoothing\" operation via a convolution with the weight matrix W)\n",
    "3. Compute the scoring function (perhaps by computing the eigenvalues)\n",
    "4. Find points with a large response (threshold f)\n",
    "5. Find local maxima of f after thresholding (you will need to pick what you think is a \"reasonable\" threshold)\n",
    "\n",
    "Where the Harris matrix $H$ is defined by\n",
    "$$ H = \\begin{bmatrix} A & B \\\\ B & C \\end{bmatrix} = \\sum_{(x, y) \\in W} w_{x, y} \\begin{bmatrix}\n",
    "I_x^2 & I_x I_y \\\\ I_x I_y & I_y^2\n",
    "\\end{bmatrix} $$\n",
    "and $I_x$ is the $x$-derivative of the image $I$, $I_y$ is the $y$-derivative of the image $I$ and $w$ is a weight matrix. Use the Sobel filters to compute the image derivatives. Use a convolution with the specified \"weight matrix\" W to compute the elements of the H matrix from the elements of the gradient multiplied together. You can use either definition of $f$ we introduced in class:\n",
    "\n",
    "$$ f = min(\\lambda_1, \\lambda_2) $$\n",
    "$$ f = \\frac{\\text{det}(H)}{\\text{tr}(H)} $$\n",
    "\n",
    "I have provided you with a local-maxima-finding function for you to use. (*Note*: I have tested it, but not extensively...)"
   ]
  },
  {
   "cell_type": "code",
   "execution_count": null,
   "metadata": {},
   "outputs": [],
   "source": [
    "# Startup code \n",
    "\n",
    "import numpy as np\n",
    "import matplotlib.pyplot as plt\n",
    "from PIL import Image\n",
    "import scipy.ndimage\n",
    "import scipy.ndimage.filters as filters\n",
    "\n",
    "def load_image(filepath):\n",
    "    \"\"\"Loads an image into a numpy array.\n",
    "    Note: image will have 3 color channels [r, g, b].\"\"\"\n",
    "    img = Image.open(filepath)\n",
    "    return (np.asarray(img).astype(np.float)/255)[:, :, :3]\n",
    "\n",
    "def get_local_maxima(data, threshold):\n",
    "    # See: https://stackoverflow.com/a/9113227/3672986\n",
    "    neighborhood_size = 3\n",
    "\n",
    "    data_region_max = filters.maximum_filter(data, neighborhood_size)\n",
    "    maxima = (data == data_region_max)\n",
    "    data_min = filters.minimum_filter(data, neighborhood_size)\n",
    "    maxima[data < threshold] = 0\n",
    "\n",
    "    labeled, num_objects = scipy.ndimage.label(maxima)\n",
    "    slices = scipy.ndimage.find_objects(labeled)\n",
    "    x, y = [], []\n",
    "    for dy,dx in slices:\n",
    "        x_center = int(round((dx.start + dx.stop - 1)/2))\n",
    "        x.append(x_center)\n",
    "        y_center = int(round((dy.start + dy.stop - 1)/2))   \n",
    "        y.append(y_center)\n",
    "        \n",
    "    return np.array(list(zip(x, y)))\n",
    "\n",
    "def apply_filter(signal, filt):\n",
    "    \"\"\"Apply a filter to an image; wrapper around scipy.\"\"\"\n",
    "    return scipy.signal.convolve2d(signal, filt, mode='same')"
   ]
  },
  {
   "cell_type": "code",
   "execution_count": null,
   "metadata": {},
   "outputs": [],
   "source": [
    "# Some example code for maxima-finding\n",
    "signal = np.random.rand(50, 50)\n",
    "fig = plt.figure(figsize=(8, 8), dpi=100)\n",
    "plt.imshow(signal, cmap='gray')\n",
    "points = get_local_maxima(signal, threshold=0.95)\n",
    "plt.plot(points[:, 0], points[:, 1], 'ro')\n",
    "plt.title(\"Example of maxima detection\")\n",
    "\n",
    "None"
   ]
  },
  {
   "cell_type": "code",
   "execution_count": null,
   "metadata": {},
   "outputs": [],
   "source": [
    "# Plot the image\n",
    "image = load_image(\"light_cubes_sm.png\")[:, :, 0]\n",
    "plt.figure(dpi=150)\n",
    "plt.imshow(image)\n",
    "plt.title(\"Demo image for Harris Detection\")\n",
    "plt.show()\n",
    "\n",
    "None"
   ]
  },
  {
   "cell_type": "code",
   "execution_count": null,
   "metadata": {},
   "outputs": [],
   "source": [
    "# TASK: Now try implementing the Harris detector (one\n",
    "# step at a time)!\n",
    "# You may find copying your x- and y-derivative \n",
    "# implementations from your programming assignment \n",
    "# helpful here."
   ]
  },
  {
   "cell_type": "code",
   "execution_count": null,
   "metadata": {},
   "outputs": [],
   "source": []
  }
 ],
 "metadata": {
  "kernelspec": {
   "display_name": "Python3 (CS482)",
   "language": "python",
   "name": "cs482venv"
  },
  "language_info": {
   "codemirror_mode": {
    "name": "ipython",
    "version": 3
   },
   "file_extension": ".py",
   "mimetype": "text/x-python",
   "name": "python",
   "nbconvert_exporter": "python",
   "pygments_lexer": "ipython3",
   "version": "3.9.7"
  }
 },
 "nbformat": 4,
 "nbformat_minor": 2
}
