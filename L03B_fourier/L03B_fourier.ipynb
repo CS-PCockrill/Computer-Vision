{
 "cells": [
  {
   "cell_type": "markdown",
   "metadata": {},
   "source": [
    "## L03B: Computing Derivatives with Fourier Transforms\n",
    "\n",
    "In class, we discussed computing the Fourier Transform of a signal, in which we could represent any periodic signal as a sum of sine and cosine functions (or complex exponentials):\n",
    "\n",
    "$$ f(x) = \\sum_{k = 0}^{N - 1} F(k) e^{i 2 \\pi k x / N} $$\n",
    "\n",
    "First, we will (together) experiment with the \"fast Fourier transform\", which computationally computes the frequency-space components of a signal.\n",
    "\n",
    "**TASK (as a class):** If you've never used the Fast Fourier Transform before, you can experiment with the `plot_signal_and_transform` function I have provided. Visualize the signal and its Fourier Transform to get a \"feel\" for what the frequency space representation looks like for each. You should also feel free to create your own signals (or modify these) and see what happens."
   ]
  },
  {
   "cell_type": "code",
   "execution_count": null,
   "metadata": {},
   "outputs": [],
   "source": [
    "# First, let's explore a bit\n",
    "import numpy as np\n",
    "import matplotlib.pyplot as plt\n",
    "import scipy.signal\n",
    "\n",
    "\n",
    "def plot_signal_and_transform(signal, title, L=1):\n",
    "    sig_w = np.fft.fft(signal)\n",
    "\n",
    "    plt.figure(dpi=150, figsize=(9, 3))\n",
    "\n",
    "    plt.subplot(1, 3, 1)\n",
    "    plt.plot(signal, 'b.')\n",
    "    plt.title(title)\n",
    "    \n",
    "    plt.subplot(1, 3, 2)\n",
    "    plt.plot(np.abs(sig_w), 'b.')\n",
    "    plt.title(title + \" [abs(FFT)]\")\n",
    "        \n",
    "    plt.subplot(1, 3, 3)\n",
    "    w = np.fft.fftfreq(len(sig_w)) * len(sig_w) * 2 * np.pi * L\n",
    "    plt.plot(w, np.abs(sig_w), 'b.')\n",
    "    plt.plot([0], [0], 'r.')\n",
    "    plt.title(title + \" [abs(FFT), shifted]\")\n",
    "\n",
    "\n",
    "# Define the Signals\n",
    "L = 1.0\n",
    "N = 101\n",
    "x = np.arange(0, L, L / N)\n",
    "signal_a = np.sin(2 * np.pi * 4 * x / L)\n",
    "do_box_filter = False\n",
    "\n",
    "signal_b = np.zeros(N, dtype=float)\n",
    "signal_b[1*N//4:3*N//4] = 1.0\n",
    "signal_c = signal_b + np.random.normal(scale=0.02, size=signal_b.shape)\n",
    "\n",
    "# Plotting Code\n",
    "plot_signal_and_transform(signal_a, \"Signal A\")\n",
    "# plot_signal_and_transform(signal_b, \"Signal B\")\n",
    "# plot_signal_and_transform(signal_c, \"Signal C\")\n",
    "\n",
    "None"
   ]
  },
  {
   "cell_type": "markdown",
   "metadata": {},
   "source": [
    "## Computing Derivatives with the FFT\n",
    "\n",
    "Computing the derivative of a Fourier Transformed signal is relatively straightforward:\n",
    "\n",
    "$$ \\frac{d}{dx}f(x) = \\sum_{k = 0}^{N - 1} \\frac{i 2 \\pi k}{N}F(k) e^{i 2 \\pi k x / N} $$\n",
    "\n",
    "We can compute derivatives by multiplying in frequency space. This means that taking the Fourier Transform, multiplying by a frequency-dependent term, and taking the inverse Fourier Transform can be used to compute the derivative.In practice, the process is still relatively simple, but there are some pitfals you should know to avoid.\n",
    "\n",
    "For this breakout session, I have provided you with some starter code for a few signals you should know the derivative of. Use the theorem above, along with the [numpy Fast Fourier Transform documentation](https://numpy.org/doc/stable/reference/routines.fft.html), to compute the derivative of this function.\n",
    "\n",
    "To start, I have provided you with the frequency-space vector `k`. \n",
    "and use it to compute the derivative. Define `k` so that the derivative is accurate even if `L` and `N` are changed. Confirm that the derivative you compute with the Fourier Transform matches the analytic derivative by plotting them on top of one another. Note that your absolute scale may be off: `k` will depend on both `N` and `L`. (Do not use `np.fft.fftfreq`; it is instructive to do this by hand at least once.) The [numpy Fast Fourier Transform documentation](https://numpy.org/doc/stable/reference/routines.fft.html) will likely prove useful here.\n",
    "\n",
    "**TASK** Complete the `fft_derivative` function below using what we discussed in class and the equation above. Then plot the results using the code below."
   ]
  },
  {
   "cell_type": "code",
   "execution_count": null,
   "metadata": {},
   "outputs": [],
   "source": [
    "import numpy as np\n",
    "import matplotlib.pyplot as plt\n",
    "\n",
    "# Your task: define the frequency vector 'w' to compute the derivative.\n",
    "# Compare this to the analytic derivative of the signals.\n",
    "\n",
    "def fft_derivative(signal_x, L):\n",
    "    \"\"\"Uses the Fourier Transform to compute the derivative\n",
    "    of a function. Requires a signal and the length/size of the\n",
    "    domain 'L'.\"\"\"\n",
    "    # First, compute the 'forwards' fft using np.fft.fft\n",
    "    raise NotImplementedError()\n",
    "    \n",
    "    # Second, multiply in frequency space to 'apply' the derivative\n",
    "    # Note: '1j' is one imaginary unit in Python.\n",
    "    k = np.fft.fftfreq(N) * (N**2) * L\n",
    "    raise NotImplementedError()\n",
    "    \n",
    "    # Finally, compute the 'inverse' fft using np.fft.ifft and return\n",
    "    raise NotImplementedError()"
   ]
  },
  {
   "cell_type": "code",
   "execution_count": null,
   "metadata": {},
   "outputs": [],
   "source": [
    "# Results/Plotting Code\n",
    "\n",
    "# Create an example signal\n",
    "L = 1.0\n",
    "N = 101\n",
    "x = np.arange(0, L, L / N)\n",
    "signal_c = np.sin(2 * np.pi * 4 * x / L)\n",
    "d_signal_c = 2 * np.pi * 4 / L * np.cos(2 * np.pi * 4 * x / L)\n",
    "d_signal_c_fft = fft_derivative(signal_c, L)\n",
    "\n",
    "# Plotting\n",
    "def plot_signal_and_derivatives(signal, d_signal_known, d_signal_fft):\n",
    "    \n",
    "    fig = plt.figure(figsize=(12, 4), dpi=150)\n",
    "    ax = plt.subplot(1, 3, 1)\n",
    "    ax.plot(x, signal, '-')\n",
    "    ax.set_title('Base Signal')\n",
    "\n",
    "    ax = plt.subplot(1, 3, 2)\n",
    "    ax.plot(x, d_signal_known, '-')\n",
    "    ax.set_title('Analytic Derivative')\n",
    "    \n",
    "    ax = plt.subplot(1, 3, 3)\n",
    "    ax.plot(x, np.real(d_signal_fft), '-')\n",
    "    ax.set_title('FFT-computed Derivative')\n",
    "\n",
    "plot_signal_and_derivatives(signal_c, d_signal_c, d_signal_c_fft)\n",
    "\n",
    "None"
   ]
  },
  {
   "cell_type": "code",
   "execution_count": null,
   "metadata": {},
   "outputs": [],
   "source": [
    "# Results for an approximate triangle function\n",
    "signal_a = (np.sin(1 * 2 * np.pi * x / L) - \n",
    "            np.sin(3 * 2 * np.pi * x / L) / 3**2 +\n",
    "            np.sin(5 * 2 * np.pi * x / L) / 5**2 -\n",
    "            np.sin(7 * 2 * np.pi * x / L) / 7**2 +\n",
    "            np.sin(9 * 2 * np.pi * x / L) / 9**2 - \n",
    "            np.sin(11 * 2 * np.pi * x / L) / 11**2 +\n",
    "            np.sin(13 * 2 * np.pi * x / L) / 13**2)\n",
    "\n",
    "fig = plt.figure(figsize=(12, 4), dpi=150)\n",
    "ax = plt.subplot(1, 2, 1)\n",
    "ax.plot(x, signal_a, '-')\n",
    "ax.set_title('Base Signal')\n",
    "\n",
    "ax = plt.subplot(1, 2, 2)\n",
    "ax.plot(x, np.real(fft_derivative(signal_a, L)), '-')\n",
    "ax.set_title('FFT Derivative')\n",
    "\n",
    "None"
   ]
  },
  {
   "cell_type": "code",
   "execution_count": null,
   "metadata": {},
   "outputs": [],
   "source": []
  },
  {
   "cell_type": "code",
   "execution_count": null,
   "metadata": {},
   "outputs": [],
   "source": []
  },
  {
   "cell_type": "code",
   "execution_count": null,
   "metadata": {},
   "outputs": [],
   "source": []
  },
  {
   "cell_type": "code",
   "execution_count": null,
   "metadata": {},
   "outputs": [],
   "source": []
  },
  {
   "cell_type": "code",
   "execution_count": null,
   "metadata": {},
   "outputs": [],
   "source": []
  },
  {
   "cell_type": "code",
   "execution_count": null,
   "metadata": {},
   "outputs": [],
   "source": [
    "## NO PEEKING! Solution below"
   ]
  },
  {
   "cell_type": "code",
   "execution_count": null,
   "metadata": {},
   "outputs": [],
   "source": []
  },
  {
   "cell_type": "code",
   "execution_count": null,
   "metadata": {},
   "outputs": [],
   "source": []
  },
  {
   "cell_type": "code",
   "execution_count": null,
   "metadata": {},
   "outputs": [],
   "source": []
  },
  {
   "cell_type": "code",
   "execution_count": null,
   "metadata": {},
   "outputs": [],
   "source": []
  },
  {
   "cell_type": "code",
   "execution_count": null,
   "metadata": {},
   "outputs": [],
   "source": []
  },
  {
   "cell_type": "code",
   "execution_count": null,
   "metadata": {},
   "outputs": [],
   "source": [
    "## SOLUTION\n",
    "def fft_derivative(signal_x, L):\n",
    "    \"\"\"Uses the Fourier Transform to compute the derivative\n",
    "    of a function. Requires a signal and the length/size of the\n",
    "    domain 'L'.\"\"\"\n",
    "    # First, compute the 'forwards' fft using np.fft.fft\n",
    "    signal_w = np.fft.fft(signal_x)\n",
    "    \n",
    "    # Second, multiply in frequency space to 'apply' the derivative\n",
    "    # Note: '1j' is one imaginary unit in Python.\n",
    "    k = np.fft.fftfreq(N) * (N**2) * L\n",
    "    d_signal_w = (1j * 2 * np.pi * k / N) * signal_w\n",
    "    \n",
    "    # Finally, compute the 'inverse' fft using np.fft.ifft and return\n",
    "    return np.fft.ifft(d_signal_w)"
   ]
  },
  {
   "cell_type": "code",
   "execution_count": null,
   "metadata": {},
   "outputs": [],
   "source": []
  }
 ],
 "metadata": {
  "kernelspec": {
   "display_name": "Python3 (CS482)",
   "language": "python",
   "name": "cs482venv"
  },
  "language_info": {
   "codemirror_mode": {
    "name": "ipython",
    "version": 3
   },
   "file_extension": ".py",
   "mimetype": "text/x-python",
   "name": "python",
   "nbconvert_exporter": "python",
   "pygments_lexer": "ipython3",
   "version": "3.9.7"
  }
 },
 "nbformat": 4,
 "nbformat_minor": 4
}
