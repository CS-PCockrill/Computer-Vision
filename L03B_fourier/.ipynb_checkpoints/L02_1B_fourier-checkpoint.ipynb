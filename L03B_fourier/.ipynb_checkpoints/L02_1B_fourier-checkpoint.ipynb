{
 "cells": [
  {
   "cell_type": "markdown",
   "metadata": {},
   "source": [
    "## L02.1B: Computing Derivatives with Fourier Transforms\n",
    "\n",
    "In class, we discussed computing the Fourier Transform of a signal, in which we could represent any periodic signal as a sum of sine and cosine functions (or complex exponentials):\n",
    "\n",
    "$$ f(x) = \\sum_{k = 0}^{N - 1} F(k) e^{i 2 \\pi k x / N} $$\n",
    "\n",
    "Computing the derivative of a Fourier Transformed signal is relatively straightforward:\n",
    "\n",
    "$$ \\frac{d}{dx}f(x) = \\sum_{k = 0}^{N - 1} \\frac{i 2 \\pi k}{N}F(k) e^{i 2 \\pi k x / N} $$\n",
    "\n",
    "We can compute derivatives by multiplying in frequency space. This means that taking the Fourier Transform, multiplying by a frequency-dependent term, and taking the inverse Fourier Transform can be used to compute the derivative.In practice, the process is still relatively simple, but there are some pitfals you should know to avoid.\n",
    "\n",
    "For this breakout session, I have provided you with some starter code for a few signals you should know the derivative of. Use the theorem above, along with the [numpy Fast Fourier Transform documentation](https://numpy.org/doc/stable/reference/routines.fft.html), to compute the derivative of this function.\n",
    "\n",
    "**Task (as a class):** If you've never used the Fast Fourier Transform before, you can experiment with the `plot_signal_and_transform` function I have provided. Visualize the signal and its Fourier Transform to get a \"feel\" for what the frequency space representation looks like for each. You should also feel free to create your own signals (or modify these) and see what happens."
   ]
  },
  {
   "cell_type": "code",
   "execution_count": null,
   "metadata": {},
   "outputs": [],
   "source": [
    "# First, let's explore a bit\n",
    "\n",
    "import numpy as np\n",
    "import matplotlib.pyplot as plt\n",
    "\n",
    "# Define the Signals\n",
    "L = 1.0\n",
    "N = 101\n",
    "x = np.arange(0, L, L / N)\n",
    "signal_a = np.zeros(N, dtype=float)\n",
    "signal_a[1*N//4:3*N//4] = 1.0\n",
    "signal_b = np.sin(2 * np.pi * 4 * x / L)\n",
    "\n",
    "def plot_signal_and_transform(signal, title):\n",
    "    sig_w = np.fft.fft(signal)\n",
    "    \n",
    "    plt.figure(dpi=150, figsize=(9, 3))\n",
    "\n",
    "    plt.subplot(1, 2, 1)\n",
    "    plt.plot(signal, 'b.')\n",
    "    plt.title(title)\n",
    "    \n",
    "    plt.subplot(1, 2, 2)\n",
    "    plt.plot(np.abs(sig_w), 'b.')\n",
    "    plt.title(title + \" [abs(FFT)]\")\n",
    "\n",
    "plot_signal_and_transform(signal_a, \"Signal A\")\n",
    "plot_signal_and_transform(signal_b, \"Signal B\")\n",
    "None"
   ]
  },
  {
   "cell_type": "markdown",
   "metadata": {},
   "source": [
    "**Task:** Compute the frequency-space vector `k` and use it to compute the derivative. Define `k` so that the derivative is accurate even if `L` and `N` are changed. Confirm that the derivative you compute with the Fourier Transform matches the analytic derivative by plotting them on top of one another. Note that your absolute scale may be off: `k` will depend on both `N` and `L`. (Do not use `np.fft.fftfreq`; it is instructive to do this by hand at least once.) The [numpy Fast Fourier Transform documentation](https://numpy.org/doc/stable/reference/routines.fft.html) will likely prove useful here."
   ]
  },
  {
   "cell_type": "code",
   "execution_count": null,
   "metadata": {},
   "outputs": [],
   "source": [
    "import numpy as np\n",
    "import matplotlib.pyplot as plt\n",
    "\n",
    "# Your task: define the frequency vector 'w' to compute the derivative.\n",
    "# Compare this to the analytic derivative of the signals.\n",
    "\n",
    "def fft_derivative(signal_x, w):\n",
    "    \"\"\"Uses the Fourier Transform to compute the derivative\n",
    "    of a function. Requires a signal and the 'frequency vector'\n",
    "    w.\"\"\"\n",
    "    return np.fft.ifft(1j * w * np.fft.fft(signal_x))\n",
    "\n",
    "# Create an example signal\n",
    "L = 1.0\n",
    "N = 101\n",
    "x = np.arange(0, L, L / N)\n",
    "signal_c = np.sin(2 * np.pi * 4 * x / L)\n",
    "d_signal_c = 2 * np.pi * 4 / L * np.cos(2 * np.pi * 4 * x / L)\n",
    "\n",
    "w = None"
   ]
  },
  {
   "cell_type": "code",
   "execution_count": null,
   "metadata": {},
   "outputs": [],
   "source": [
    "# TODO: define the 'w' vector\n"
   ]
  },
  {
   "cell_type": "code",
   "execution_count": null,
   "metadata": {},
   "outputs": [],
   "source": [
    "# Plotting Code\n",
    "if w is None:\n",
    "    raise NotImplementedError(\"Frequency vector 'w' is not defined.\")\n",
    "\n",
    "d_signal_c_fft = fft_derivative(signal_c, w)\n",
    "\n",
    "# Plotting\n",
    "def plot_signal_and_derivatives(signal, d_signal_known, d_signal_fft):\n",
    "    \n",
    "    fig = plt.figure(figsize=(12, 4), dpi=150)\n",
    "    ax = plt.subplot(1, 3, 1)\n",
    "    ax.plot(x, signal, '-')\n",
    "    ax.set_title('Base Signal')\n",
    "\n",
    "    ax = plt.subplot(1, 3, 2)\n",
    "    ax.plot(x, d_signal_known, '-')\n",
    "    ax.set_title('Analytic Derivative')\n",
    "    \n",
    "    ax = plt.subplot(1, 3, 3)\n",
    "    ax.plot(x, np.real(d_signal_fft), '-')\n",
    "    ax.set_title('FFT-computed Derivative')\n",
    "\n",
    "plot_signal_and_derivatives(signal_c, d_signal_c, d_signal_c_fft)\n",
    "\n",
    "None"
   ]
  },
  {
   "cell_type": "code",
   "execution_count": null,
   "metadata": {},
   "outputs": [],
   "source": [
    "\n",
    "def plot_signal_and_derivative(signal, d_signal_fft):\n",
    "    \n",
    "    fig = plt.figure(figsize=(8, 4), dpi=150)\n",
    "    ax = plt.subplot(1, 2, 1)\n",
    "    ax.plot(x, signal, '-')\n",
    "    ax.set_title('Base Signal')\n",
    "    \n",
    "    ax = plt.subplot(1, 2, 2)\n",
    "    ax.plot(x, np.real(d_signal_fft), '-')\n",
    "    ax.set_title('FFT-computed Derivative')\n",
    "\n",
    "\n",
    "signal_a = (np.sin(1 * 2 * np.pi * x / L) - \n",
    "            np.sin(3 * 2 * np.pi * x / L) / 3**2 +\n",
    "            np.sin(5 * 2 * np.pi * x / L) / 5**2 -\n",
    "            np.sin(7 * 2 * np.pi * x / L) / 7**2 +\n",
    "            np.sin(9 * 2 * np.pi * x / L) / 9**2)\n",
    "plot_signal_and_derivative(signal_a, fft_derivative(signal_a, w))"
   ]
  },
  {
   "cell_type": "code",
   "execution_count": null,
   "metadata": {},
   "outputs": [],
   "source": []
  }
 ],
 "metadata": {
  "kernelspec": {
   "display_name": "Python3 (CS682)",
   "language": "python",
   "name": "cs682venv"
  },
  "language_info": {
   "codemirror_mode": {
    "name": "ipython",
    "version": 3
   },
   "file_extension": ".py",
   "mimetype": "text/x-python",
   "name": "python",
   "nbconvert_exporter": "python",
   "pygments_lexer": "ipython3",
   "version": "3.8.2"
  }
 },
 "nbformat": 4,
 "nbformat_minor": 4
}
